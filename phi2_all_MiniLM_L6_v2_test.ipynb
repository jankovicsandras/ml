{
  "nbformat": 4,
  "nbformat_minor": 0,
  "metadata": {
    "colab": {
      "provenance": [],
      "authorship_tag": "ABX9TyPpLYrobro+7UYgZxER9Eih",
      "include_colab_link": true
    },
    "kernelspec": {
      "name": "python3",
      "display_name": "Python 3"
    },
    "language_info": {
      "name": "python"
    }
  },
  "cells": [
    {
      "cell_type": "markdown",
      "metadata": {
        "id": "view-in-github",
        "colab_type": "text"
      },
      "source": [
        "<a href=\"https://colab.research.google.com/github/jankovicsandras/ml/blob/main/phi2_all_MiniLM_L6_v2_test.ipynb\" target=\"_parent\"><img src=\"https://colab.research.google.com/assets/colab-badge.svg\" alt=\"Open In Colab\"/></a>"
      ]
    },
    {
      "cell_type": "markdown",
      "source": [
        "# Check if model file is downloaded"
      ],
      "metadata": {
        "id": "yIfIqQEDPnXG"
      }
    },
    {
      "cell_type": "code",
      "source": [
        "! ls -la\n",
        "! pwd"
      ],
      "metadata": {
        "colab": {
          "base_uri": "https://localhost:8080/"
        },
        "id": "uhTEY8T3PmFU",
        "outputId": "b6ceccbb-f7f6-4d0c-b378-81342dbb368b"
      },
      "execution_count": 9,
      "outputs": [
        {
          "output_type": "stream",
          "name": "stdout",
          "text": [
            "total 2024124\n",
            "drwxr-xr-x 1 root root       4096 Jan 22 18:41 .\n",
            "drwxr-xr-x 1 root root       4096 Jan 22 18:40 ..\n",
            "drwxr-xr-x 4 root root       4096 Jan 19 14:19 .config\n",
            "-rw-r--r-- 1 root root 2072682336 Dec 18 20:25 phi-2.Q5_K_M.gguf\n",
            "drwxr-xr-x 1 root root       4096 Jan 19 14:20 sample_data\n",
            "/content\n"
          ]
        }
      ]
    },
    {
      "cell_type": "markdown",
      "source": [
        "# Model download : Do this only if model file is not visibile above!"
      ],
      "metadata": {
        "id": "337frCuWQC42"
      }
    },
    {
      "cell_type": "code",
      "source": [
        "! wget https://huggingface.co/TheBloke/phi-2-GGUF/resolve/main/phi-2.Q5_K_M.gguf"
      ],
      "metadata": {
        "colab": {
          "base_uri": "https://localhost:8080/"
        },
        "id": "9NTifmRqP4Rr",
        "outputId": "2e52b305-bf94-415e-8394-ed7cead23e79"
      },
      "execution_count": 10,
      "outputs": [
        {
          "output_type": "stream",
          "name": "stdout",
          "text": [
            "--2024-01-22 18:47:35--  https://huggingface.co/TheBloke/phi-2-GGUF/resolve/main/phi-2.Q5_K_M.gguf\n",
            "Resolving huggingface.co (huggingface.co)... 52.85.151.31, 52.85.151.16, 52.85.151.66, ...\n",
            "Connecting to huggingface.co (huggingface.co)|52.85.151.31|:443... connected.\n",
            "HTTP request sent, awaiting response... 302 Found\n",
            "Location: https://cdn-lfs-us-1.huggingface.co/repos/df/73/df7366134ed3798e8afca879a1fb9eb2741134a7d549d744d7163b5d84cf3e2d/ce6bcc8fa75b467e1eb693bcc921fe366ceac14aa92ec3dc84da536c2289510a?response-content-disposition=attachment%3B+filename*%3DUTF-8%27%27phi-2.Q5_K_M.gguf%3B+filename%3D%22phi-2.Q5_K_M.gguf%22%3B&Expires=1706208455&Policy=eyJTdGF0ZW1lbnQiOlt7IkNvbmRpdGlvbiI6eyJEYXRlTGVzc1RoYW4iOnsiQVdTOkVwb2NoVGltZSI6MTcwNjIwODQ1NX19LCJSZXNvdXJjZSI6Imh0dHBzOi8vY2RuLWxmcy11cy0xLmh1Z2dpbmdmYWNlLmNvL3JlcG9zL2RmLzczL2RmNzM2NjEzNGVkMzc5OGU4YWZjYTg3OWExZmI5ZWIyNzQxMTM0YTdkNTQ5ZDc0NGQ3MTYzYjVkODRjZjNlMmQvY2U2YmNjOGZhNzViNDY3ZTFlYjY5M2JjYzkyMWZlMzY2Y2VhYzE0YWE5MmVjM2RjODRkYTUzNmMyMjg5NTEwYT9yZXNwb25zZS1jb250ZW50LWRpc3Bvc2l0aW9uPSoifV19&Signature=flfGbNxhATAGRMbl1uHzZ0wsM4UCGiGeVYFHKfdtpHLt5jXarw9R1dR8cY2TRS4y8X13zF7b7rHLVivvO28KA5pF9cXV3W2dtkA4TDkv6gEibdsmfu9C592p4KTG3qc-09OkHCFwyt-OngSBnClYu34M49TymYvsMXPJLaOBpv53uEEyfB4aFpUd%7EQXviSjAIzB0QHSZTLbbdftgFd9dntcrSE5Of4Y64cmXITAQOxEU%7EVZMX-QDTDwn3FVk7k2J2I0m6AcO72ZW%7Eudpl-vTNWZ5fOQTEMl6iX69n5KgADatfqXdGeE0YM0zKLLyuNSyjy-2EVAuFg1ZrRkoNkj2Vg__&Key-Pair-Id=KCD77M1F0VK2B [following]\n",
            "--2024-01-22 18:47:35--  https://cdn-lfs-us-1.huggingface.co/repos/df/73/df7366134ed3798e8afca879a1fb9eb2741134a7d549d744d7163b5d84cf3e2d/ce6bcc8fa75b467e1eb693bcc921fe366ceac14aa92ec3dc84da536c2289510a?response-content-disposition=attachment%3B+filename*%3DUTF-8%27%27phi-2.Q5_K_M.gguf%3B+filename%3D%22phi-2.Q5_K_M.gguf%22%3B&Expires=1706208455&Policy=eyJTdGF0ZW1lbnQiOlt7IkNvbmRpdGlvbiI6eyJEYXRlTGVzc1RoYW4iOnsiQVdTOkVwb2NoVGltZSI6MTcwNjIwODQ1NX19LCJSZXNvdXJjZSI6Imh0dHBzOi8vY2RuLWxmcy11cy0xLmh1Z2dpbmdmYWNlLmNvL3JlcG9zL2RmLzczL2RmNzM2NjEzNGVkMzc5OGU4YWZjYTg3OWExZmI5ZWIyNzQxMTM0YTdkNTQ5ZDc0NGQ3MTYzYjVkODRjZjNlMmQvY2U2YmNjOGZhNzViNDY3ZTFlYjY5M2JjYzkyMWZlMzY2Y2VhYzE0YWE5MmVjM2RjODRkYTUzNmMyMjg5NTEwYT9yZXNwb25zZS1jb250ZW50LWRpc3Bvc2l0aW9uPSoifV19&Signature=flfGbNxhATAGRMbl1uHzZ0wsM4UCGiGeVYFHKfdtpHLt5jXarw9R1dR8cY2TRS4y8X13zF7b7rHLVivvO28KA5pF9cXV3W2dtkA4TDkv6gEibdsmfu9C592p4KTG3qc-09OkHCFwyt-OngSBnClYu34M49TymYvsMXPJLaOBpv53uEEyfB4aFpUd%7EQXviSjAIzB0QHSZTLbbdftgFd9dntcrSE5Of4Y64cmXITAQOxEU%7EVZMX-QDTDwn3FVk7k2J2I0m6AcO72ZW%7Eudpl-vTNWZ5fOQTEMl6iX69n5KgADatfqXdGeE0YM0zKLLyuNSyjy-2EVAuFg1ZrRkoNkj2Vg__&Key-Pair-Id=KCD77M1F0VK2B\n",
            "Resolving cdn-lfs-us-1.huggingface.co (cdn-lfs-us-1.huggingface.co)... 18.160.46.59, 18.160.46.26, 18.160.46.36, ...\n",
            "Connecting to cdn-lfs-us-1.huggingface.co (cdn-lfs-us-1.huggingface.co)|18.160.46.59|:443... connected.\n",
            "HTTP request sent, awaiting response... 200 OK\n",
            "Length: 2072682336 (1.9G) [binary/octet-stream]\n",
            "Saving to: ‘phi-2.Q5_K_M.gguf.1’\n",
            "\n",
            "phi-2.Q5_K_M.gguf.1 100%[===================>]   1.93G  62.5MB/s    in 30s     \n",
            "\n",
            "2024-01-22 18:48:05 (66.4 MB/s) - ‘phi-2.Q5_K_M.gguf.1’ saved [2072682336/2072682336]\n",
            "\n"
          ]
        }
      ]
    },
    {
      "cell_type": "markdown",
      "source": [
        "# Install deps\n"
      ],
      "metadata": {
        "id": "b0jitre4aW-T"
      }
    },
    {
      "cell_type": "code",
      "execution_count": 11,
      "metadata": {
        "id": "ofOv548DZ32W"
      },
      "outputs": [],
      "source": [
        "!pip -q install langchain llama-cpp-python sentence-transformers langchain-community faiss-cpu"
      ]
    },
    {
      "cell_type": "markdown",
      "source": [
        "# naive vectordb class"
      ],
      "metadata": {
        "id": "rzZRkx0BYjSf"
      }
    },
    {
      "cell_type": "code",
      "source": [
        "# naive vectordb\n",
        "class Nvdb :\n",
        "  def __init__(self,embedder) :\n",
        "    self.embedder = embedder\n",
        "    self.docs = []\n",
        "    self.vecs = []\n",
        "\n",
        "  def insert(self,doc) :\n",
        "    self.docs.append(doc)\n",
        "    self.vecs.append(self.embedder.encode(doc.page_content))\n",
        "\n",
        "  def insertarr(self,docarr) :\n",
        "    for d in docarr : self.insert(d)\n",
        "\n",
        "  def selecttopk(self,k,query) :\n",
        "    v = self.embedder.encode([query])\n",
        "    sc = [ [self.similarityfunction(v,x),i] for i,x in enumerate(self.vecs) ]\n",
        "    sc.sort(key=lambda x : x[0], reverse=True)\n",
        "    return [ [x[0],x[1],self.docs[x[1]]] for x in sc[:k]]\n",
        "\n",
        "  def similarityfunction(self,v1,v2) :\n",
        "    x = np.dot(v1,v2)\n",
        "    return x\n"
      ],
      "metadata": {
        "id": "nKCheh5AYnYl"
      },
      "execution_count": 12,
      "outputs": []
    },
    {
      "cell_type": "markdown",
      "source": [
        "# test shop items"
      ],
      "metadata": {
        "id": "rj0qXyLkJfBT"
      }
    },
    {
      "cell_type": "code",
      "source": [
        "import random\n",
        "\n",
        "colors = ['black','blue','green','cyan','red','magenta','brown','light grey','dark grey','bright blue']\n",
        "sizes = [str(30+x*2) for x in range(0,10)]\n",
        "itemtypes = [ 'belt','cap','hat','jeans','jumper', 'shirt','shorts','sneakers','suit','tie' ]\n",
        "adjs = ['Fantastic','Cool','Superb','Awesome','Trendy']\n",
        "allitems = []\n",
        "for c in colors :\n",
        "  for s in sizes :\n",
        "    for ii,i in enumerate(itemtypes) :\n",
        "      allitems.append( random.choice(adjs)+' '+c+' '+i+' in size '+s+'. Price: '+str(int(s)+20+5*ii)+' USD.' )\n",
        "\n",
        "#print(allitems)\n"
      ],
      "metadata": {
        "id": "ubs6tRjkJd4a"
      },
      "execution_count": 13,
      "outputs": []
    },
    {
      "cell_type": "markdown",
      "source": [
        "# naive and FAISS vectordbs"
      ],
      "metadata": {
        "id": "bD8AV_6XRHKf"
      }
    },
    {
      "cell_type": "code",
      "source": [
        "from sentence_transformers import SentenceTransformer\n",
        "from langchain.schema.document import Document\n",
        "from langchain_community.embeddings import HuggingFaceEmbeddings\n",
        "from langchain_community.vectorstores import FAISS\n",
        "import numpy as np\n",
        "\n",
        "# Test shop db\n",
        "itemnum = 20\n",
        "shopdb = [ Document(page_content=random.choice(allitems), metadata={\"source\": \"local\",\"itemid\":i}) for i in range(0,itemnum)]\n",
        "print(str(shopdb).replace('),','),\\n'))\n",
        "\n",
        "# naive vectordb init with HuggingFace all-MiniLM-L6-v2 embedder\n",
        "embeddermodel = SentenceTransformer('sentence-transformers/all-MiniLM-L6-v2')\n",
        "myNvdb = Nvdb(embeddermodel)\n",
        "myNvdb.insertarr(shopdb)\n",
        "\n",
        "# FAISS vectordb init with LangChain/HuggingFace all-MiniLM-L6-v2 embedder\n",
        "langchainembeddermodel = HuggingFaceEmbeddings(model_name=\"all-MiniLM-L6-v2\")\n",
        "faissdb = FAISS.from_documents(shopdb, langchainembeddermodel)\n",
        "\n",
        "# test questions\n",
        "questions = [\n",
        "    'I want to buy a hat. What colors do you have?',\n",
        "    'Can you recommend something green?',\n",
        "    'Do you have shirts under 50 USD?',\n",
        "    'What do you have in size 40?',\n",
        "    'I would like to buy sneakers for my friend. Do you have something in size 46, preferably cyan or blue?',\n",
        "    'What can you recommend in red?'\n",
        "]\n",
        "\n",
        "mytopk = 3\n",
        "\n",
        "# Retrieval comparison\n",
        "for q in questions:\n",
        "  print('---------------------------------')\n",
        "  print(q)\n",
        "  r1 = myNvdb.selecttopk(mytopk,q)\n",
        "  print('myNvdb')\n",
        "  #print(str(r1).replace('),','),\\n'))\n",
        "  for rr in r1 :\n",
        "    print(rr[2].page_content,'|',rr[0][0])\n",
        "\n",
        "  r2 = faissdb.similarity_search_with_score(q)[:mytopk]\n",
        "  print('FAISS')\n",
        "  #print(str(r2).replace('),','),\\n'))\n",
        "  for rr in enumerate(r2) :\n",
        "    print(rr[1][0].page_content,'|',rr[1][1])\n",
        "\n"
      ],
      "metadata": {
        "colab": {
          "base_uri": "https://localhost:8080/"
        },
        "id": "jt6UmT30RLWf",
        "outputId": "d25ed4e2-3d81-493f-ee9e-41c5d7607b66"
      },
      "execution_count": 14,
      "outputs": [
        {
          "output_type": "stream",
          "name": "stdout",
          "text": [
            "[Document(page_content='Superb blue belt in size 36. Price: 56 USD.', metadata={'source': 'local', 'itemid': 0}),\n",
            " Document(page_content='Cool dark grey suit in size 30. Price: 90 USD.', metadata={'source': 'local', 'itemid': 1}),\n",
            " Document(page_content='Fantastic cyan jeans in size 40. Price: 75 USD.', metadata={'source': 'local', 'itemid': 2}),\n",
            " Document(page_content='Fantastic cyan jeans in size 40. Price: 75 USD.', metadata={'source': 'local', 'itemid': 3}),\n",
            " Document(page_content='Cool cyan sneakers in size 46. Price: 101 USD.', metadata={'source': 'local', 'itemid': 4}),\n",
            " Document(page_content='Cool cyan cap in size 48. Price: 73 USD.', metadata={'source': 'local', 'itemid': 5}),\n",
            " Document(page_content='Awesome light grey jeans in size 44. Price: 79 USD.', metadata={'source': 'local', 'itemid': 6}),\n",
            " Document(page_content='Cool cyan cap in size 48. Price: 73 USD.', metadata={'source': 'local', 'itemid': 7}),\n",
            " Document(page_content='Cool green jumper in size 48. Price: 88 USD.', metadata={'source': 'local', 'itemid': 8}),\n",
            " Document(page_content='Trendy black jeans in size 42. Price: 77 USD.', metadata={'source': 'local', 'itemid': 9}),\n",
            " Document(page_content='Superb green sneakers in size 40. Price: 95 USD.', metadata={'source': 'local', 'itemid': 10}),\n",
            " Document(page_content='Superb bright blue belt in size 34. Price: 54 USD.', metadata={'source': 'local', 'itemid': 11}),\n",
            " Document(page_content='Cool cyan shirt in size 44. Price: 89 USD.', metadata={'source': 'local', 'itemid': 12}),\n",
            " Document(page_content='Superb red shirt in size 42. Price: 87 USD.', metadata={'source': 'local', 'itemid': 13}),\n",
            " Document(page_content='Trendy light grey cap in size 34. Price: 59 USD.', metadata={'source': 'local', 'itemid': 14}),\n",
            " Document(page_content='Cool cyan jeans in size 44. Price: 79 USD.', metadata={'source': 'local', 'itemid': 15}),\n",
            " Document(page_content='Fantastic blue sneakers in size 48. Price: 103 USD.', metadata={'source': 'local', 'itemid': 16}),\n",
            " Document(page_content='Awesome black shorts in size 30. Price: 80 USD.', metadata={'source': 'local', 'itemid': 17}),\n",
            " Document(page_content='Fantastic bright blue jeans in size 30. Price: 65 USD.', metadata={'source': 'local', 'itemid': 18}),\n",
            " Document(page_content='Trendy light grey cap in size 34. Price: 59 USD.', metadata={'source': 'local', 'itemid': 19})]\n",
            "---------------------------------\n",
            "I want to buy a hat. What colors do you have?\n",
            "myNvdb\n",
            "Trendy light grey cap in size 34. Price: 59 USD. | 0.45655265\n",
            "Trendy light grey cap in size 34. Price: 59 USD. | 0.45655265\n",
            "Cool dark grey suit in size 30. Price: 90 USD. | 0.39855435\n",
            "FAISS\n",
            "Trendy light grey cap in size 34. Price: 59 USD. | 1.0868945\n",
            "Trendy light grey cap in size 34. Price: 59 USD. | 1.0868945\n",
            "Cool dark grey suit in size 30. Price: 90 USD. | 1.202891\n",
            "---------------------------------\n",
            "Can you recommend something green?\n",
            "myNvdb\n",
            "Superb green sneakers in size 40. Price: 95 USD. | 0.38807544\n",
            "Cool green jumper in size 48. Price: 88 USD. | 0.36148536\n",
            "Cool dark grey suit in size 30. Price: 90 USD. | 0.26609123\n",
            "FAISS\n",
            "Superb green sneakers in size 40. Price: 95 USD. | 1.2238493\n",
            "Cool green jumper in size 48. Price: 88 USD. | 1.2770293\n",
            "Cool dark grey suit in size 30. Price: 90 USD. | 1.4678174\n",
            "---------------------------------\n",
            "Do you have shirts under 50 USD?\n",
            "myNvdb\n",
            "Cool cyan shirt in size 44. Price: 89 USD. | 0.5534588\n",
            "Superb red shirt in size 42. Price: 87 USD. | 0.5436385\n",
            "Cool dark grey suit in size 30. Price: 90 USD. | 0.5029123\n",
            "FAISS\n",
            "Cool cyan shirt in size 44. Price: 89 USD. | 0.89308226\n",
            "Superb red shirt in size 42. Price: 87 USD. | 0.9127227\n",
            "Cool dark grey suit in size 30. Price: 90 USD. | 0.9941752\n",
            "---------------------------------\n",
            "What do you have in size 40?\n",
            "myNvdb\n",
            "Superb green sneakers in size 40. Price: 95 USD. | 0.5328504\n",
            "Fantastic blue sneakers in size 48. Price: 103 USD. | 0.49742547\n",
            "Fantastic cyan jeans in size 40. Price: 75 USD. | 0.48933935\n",
            "FAISS\n",
            "Superb green sneakers in size 40. Price: 95 USD. | 0.9342993\n",
            "Fantastic blue sneakers in size 48. Price: 103 USD. | 1.005149\n",
            "Fantastic cyan jeans in size 40. Price: 75 USD. | 1.0213215\n",
            "---------------------------------\n",
            "I would like to buy sneakers for my friend. Do you have something in size 46, preferably cyan or blue?\n",
            "myNvdb\n",
            "Cool cyan sneakers in size 46. Price: 101 USD. | 0.7275264\n",
            "Fantastic blue sneakers in size 48. Price: 103 USD. | 0.6536019\n",
            "Superb green sneakers in size 40. Price: 95 USD. | 0.61128455\n",
            "FAISS\n",
            "Cool cyan sneakers in size 46. Price: 101 USD. | 0.54494727\n",
            "Fantastic blue sneakers in size 48. Price: 103 USD. | 0.69279635\n",
            "Superb green sneakers in size 40. Price: 95 USD. | 0.7774309\n",
            "---------------------------------\n",
            "What can you recommend in red?\n",
            "myNvdb\n",
            "Superb red shirt in size 42. Price: 87 USD. | 0.3428076\n",
            "Cool dark grey suit in size 30. Price: 90 USD. | 0.28009626\n",
            "Fantastic blue sneakers in size 48. Price: 103 USD. | 0.26659602\n",
            "FAISS\n",
            "Superb red shirt in size 42. Price: 87 USD. | 1.3143848\n",
            "Cool dark grey suit in size 30. Price: 90 USD. | 1.4398074\n",
            "Fantastic blue sneakers in size 48. Price: 103 USD. | 1.4668082\n"
          ]
        }
      ]
    },
    {
      "cell_type": "markdown",
      "source": [
        "# LLMChain"
      ],
      "metadata": {
        "id": "CXmg9qIQblfJ"
      }
    },
    {
      "cell_type": "code",
      "source": [
        "from langchain import PromptTemplate, LLMChain, LlamaCpp\n",
        "from langchain.callbacks import StreamingStdOutCallbackHandler\n",
        "\n",
        "# Load model\n",
        "model_name = 'phi-2.Q5_K_M.gguf'\n",
        "llm = LlamaCpp(\n",
        "\tmodel_path=model_name,\n",
        "#  n_ctx=2048,\n",
        "#  seed=0,\n",
        "  temperature=0.1,\n",
        "#  max_tokens=128,\n",
        "  verbose=True,\n",
        "  callbacks=[StreamingStdOutCallbackHandler()],\n",
        "#  use_mmap=True, use_mlock=True,\n",
        "#  stop=['\\nObservasjon','\\n\\n\\n\\n'],\n",
        ")\n",
        "\n",
        "# Template and Prompt\n",
        "template = \"\"\"Answer the following question:\\n{question}\\nUse the following information:\\n{ragresult}\"\"\"\n",
        "\n",
        "prompt = PromptTemplate( template=template, input_variables=['question','ragresult'], verbose=True )\n",
        "\n",
        "# LLMChain\n",
        "llm_chain = LLMChain(prompt=prompt, llm=llm, verbose=True)\n"
      ],
      "metadata": {
        "id": "lqaddfrYcAyU",
        "colab": {
          "base_uri": "https://localhost:8080/"
        },
        "outputId": "da2b42b1-9704-4232-9d36-3236d827df70"
      },
      "execution_count": 15,
      "outputs": [
        {
          "output_type": "stream",
          "name": "stderr",
          "text": [
            "AVX = 1 | AVX_VNNI = 0 | AVX2 = 1 | AVX512 = 0 | AVX512_VBMI = 0 | AVX512_VNNI = 0 | FMA = 1 | NEON = 0 | ARM_FMA = 0 | F16C = 1 | FP16_VA = 0 | WASM_SIMD = 0 | BLAS = 0 | SSE3 = 1 | SSSE3 = 1 | VSX = 0 | \n",
            "Model metadata: {'tokenizer.ggml.unknown_token_id': '50256', 'tokenizer.ggml.eos_token_id': '50256', 'tokenizer.ggml.bos_token_id': '50256', 'general.architecture': 'phi2', 'general.name': 'Phi2', 'phi2.context_length': '2048', 'general.quantization_version': '2', 'tokenizer.ggml.model': 'gpt2', 'tokenizer.ggml.add_bos_token': 'false', 'phi2.embedding_length': '2560', 'phi2.attention.head_count': '32', 'phi2.attention.head_count_kv': '32', 'phi2.feed_forward_length': '10240', 'phi2.attention.layer_norm_epsilon': '0.000010', 'phi2.block_count': '32', 'phi2.rope.dimension_count': '32', 'general.file_type': '17'}\n"
          ]
        }
      ]
    },
    {
      "cell_type": "markdown",
      "source": [
        "# LangChain LLMChain question and run"
      ],
      "metadata": {
        "id": "ZfaHJCQYifoV"
      }
    },
    {
      "cell_type": "code",
      "source": [
        "\n",
        "for q in questions :\n",
        "  print('-------------------------------------')\n",
        "\n",
        "  r1 = myNvdb.selecttopk(mytopk,q)\n",
        "  rres = ''\n",
        "  for rr in r1 :\n",
        "    rres += rr[2].page_content + '\\n'\n",
        "\n",
        "  result = llm_chain.invoke( { 'question':q, 'ragresult':rres } )\n",
        "  print(result['text'])\n",
        ""
      ],
      "metadata": {
        "id": "akDv5vrpii4J",
        "colab": {
          "base_uri": "https://localhost:8080/"
        },
        "outputId": "cd93f890-82ea-4729-a8bb-8cb747749d47"
      },
      "execution_count": 16,
      "outputs": [
        {
          "output_type": "stream",
          "name": "stdout",
          "text": [
            "-------------------------------------\n",
            "\n",
            "\n",
            "\u001b[1m> Entering new LLMChain chain...\u001b[0m\n",
            "Prompt after formatting:\n",
            "\u001b[32;1m\u001b[1;3mAnswer the following question:\n",
            "I want to buy a hat. What colors do you have?\n",
            "Use the following information:\n",
            "Trendy light grey cap in size 34. Price: 59 USD.\n",
            "Trendy light grey cap in size 34. Price: 59 USD.\n",
            "Cool dark grey suit in size 30. Price: 90 USD.\n",
            "\u001b[0m\n",
            "\n",
            "\u001b[1m> Finished chain.\u001b[0m\n",
            "\n",
            "-------------------------------------\n",
            "\n",
            "\n",
            "\u001b[1m> Entering new LLMChain chain...\u001b[0m\n",
            "Prompt after formatting:\n",
            "\u001b[32;1m\u001b[1;3mAnswer the following question:\n",
            "Can you recommend something green?\n",
            "Use the following information:\n",
            "Superb green sneakers in size 40. Price: 95 USD.\n",
            "Cool green jumper in size 48. Price: 88 USD.\n",
            "Cool dark grey suit in size 30. Price: 90 USD.\n",
            "\u001b[0m\n"
          ]
        },
        {
          "output_type": "stream",
          "name": "stderr",
          "text": [
            "Llama.generate: prefix-match hit\n"
          ]
        },
        {
          "output_type": "stream",
          "name": "stdout",
          "text": [
            "A: The best option would be the Superb green sneakers in size 40, as it is the most affordable and comes in a color that is suitable for many occasions. It is also a versatile pair of shoes that can be dressed up or down depending on the occasion.\n",
            "\n",
            "\u001b[1m> Finished chain.\u001b[0m\n",
            "A: The best option would be the Superb green sneakers in size 40, as it is the most affordable and comes in a color that is suitable for many occasions. It is also a versatile pair of shoes that can be dressed up or down depending on the occasion.\n",
            "\n",
            "-------------------------------------\n",
            "\n",
            "\n",
            "\u001b[1m> Entering new LLMChain chain...\u001b[0m\n",
            "Prompt after formatting:\n",
            "\u001b[32;1m\u001b[1;3mAnswer the following question:\n",
            "Do you have shirts under 50 USD?\n",
            "Use the following information:\n",
            "Cool cyan shirt in size 44. Price: 89 USD.\n",
            "Superb red shirt in size 42. Price: 87 USD.\n",
            "Cool dark grey suit in size 30. Price: 90 USD.\n",
            "\u001b[0m\n"
          ]
        },
        {
          "output_type": "stream",
          "name": "stderr",
          "text": [
            "Llama.generate: prefix-match hit\n"
          ]
        },
        {
          "output_type": "stream",
          "name": "stdout",
          "text": [
            "A: No, we do not have shirts under 50 USD.\n",
            "\n",
            "\u001b[1m> Finished chain.\u001b[0m\n",
            "A: No, we do not have shirts under 50 USD.\n",
            "\n",
            "-------------------------------------\n",
            "\n",
            "\n",
            "\u001b[1m> Entering new LLMChain chain...\u001b[0m\n",
            "Prompt after formatting:\n",
            "\u001b[32;1m\u001b[1;3mAnswer the following question:\n",
            "What do you have in size 40?\n",
            "Use the following information:\n",
            "Superb green sneakers in size 40. Price: 95 USD.\n",
            "Fantastic blue sneakers in size 48. Price: 103 USD.\n",
            "Fantastic cyan jeans in size 40. Price: 75 USD.\n",
            "\u001b[0m\n"
          ]
        },
        {
          "output_type": "stream",
          "name": "stderr",
          "text": [
            "Llama.generate: prefix-match hit\n"
          ]
        },
        {
          "output_type": "stream",
          "name": "stdout",
          "text": [
            "Answer: The fantastic blue sneakers are in size 48 and cost $103.\n",
            "\n",
            "\u001b[1m> Finished chain.\u001b[0m\n",
            "Answer: The fantastic blue sneakers are in size 48 and cost $103.\n",
            "\n",
            "-------------------------------------\n",
            "\n",
            "\n",
            "\u001b[1m> Entering new LLMChain chain...\u001b[0m\n",
            "Prompt after formatting:\n",
            "\u001b[32;1m\u001b[1;3mAnswer the following question:\n",
            "I would like to buy sneakers for my friend. Do you have something in size 46, preferably cyan or blue?\n",
            "Use the following information:\n",
            "Cool cyan sneakers in size 46. Price: 101 USD.\n",
            "Fantastic blue sneakers in size 48. Price: 103 USD.\n",
            "Superb green sneakers in size 40. Price: 95 USD.\n",
            "\u001b[0m\n"
          ]
        },
        {
          "output_type": "stream",
          "name": "stderr",
          "text": [
            "Llama.generate: prefix-match hit\n"
          ]
        },
        {
          "output_type": "stream",
          "name": "stdout",
          "text": [
            "Excellent yellow sneakers in size 42. Price: 99 USD.\n",
            "A: Yes, we have the cool cyan sneakers in size 46 for you! They are priced at 101 USD. Would you like to purchase them?\n",
            "\n",
            "\u001b[1m> Finished chain.\u001b[0m\n",
            "Excellent yellow sneakers in size 42. Price: 99 USD.\n",
            "A: Yes, we have the cool cyan sneakers in size 46 for you! They are priced at 101 USD. Would you like to purchase them?\n",
            "\n",
            "-------------------------------------\n",
            "\n",
            "\n",
            "\u001b[1m> Entering new LLMChain chain...\u001b[0m\n",
            "Prompt after formatting:\n",
            "\u001b[32;1m\u001b[1;3mAnswer the following question:\n",
            "What can you recommend in red?\n",
            "Use the following information:\n",
            "Superb red shirt in size 42. Price: 87 USD.\n",
            "Cool dark grey suit in size 30. Price: 90 USD.\n",
            "Fantastic blue sneakers in size 48. Price: 103 USD.\n",
            "\u001b[0m\n"
          ]
        },
        {
          "output_type": "stream",
          "name": "stderr",
          "text": [
            "Llama.generate: prefix-match hit\n"
          ]
        },
        {
          "output_type": "stream",
          "name": "stdout",
          "text": [
            "A: The best recommendation would be to purchase the Superb red shirt in size 42 for 87 USD as it is a great quality item at an affordable price.\n",
            "\n",
            "\u001b[1m> Finished chain.\u001b[0m\n",
            "A: The best recommendation would be to purchase the Superb red shirt in size 42 for 87 USD as it is a great quality item at an affordable price.\n",
            "\n"
          ]
        }
      ]
    }
  ]
}