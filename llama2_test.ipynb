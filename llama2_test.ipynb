{
  "nbformat": 4,
  "nbformat_minor": 0,
  "metadata": {
    "colab": {
      "provenance": [],
      "authorship_tag": "ABX9TyN71AWfYy5+B0mG8t6Kfuoa",
      "include_colab_link": true
    },
    "kernelspec": {
      "name": "python3",
      "display_name": "Python 3"
    },
    "language_info": {
      "name": "python"
    }
  },
  "cells": [
    {
      "cell_type": "markdown",
      "metadata": {
        "id": "view-in-github",
        "colab_type": "text"
      },
      "source": [
        "<a href=\"https://colab.research.google.com/github/jankovicsandras/ml/blob/main/llama2_test.ipynb\" target=\"_parent\"><img src=\"https://colab.research.google.com/assets/colab-badge.svg\" alt=\"Open In Colab\"/></a>"
      ]
    },
    {
      "cell_type": "markdown",
      "source": [
        "# Check if model file is downloaded"
      ],
      "metadata": {
        "id": "yIfIqQEDPnXG"
      }
    },
    {
      "cell_type": "code",
      "source": [
        "! ls -la\n",
        "! pwd"
      ],
      "metadata": {
        "colab": {
          "base_uri": "https://localhost:8080/"
        },
        "id": "uhTEY8T3PmFU",
        "outputId": "6639306e-1047-44d9-d63a-268f0e58096b"
      },
      "execution_count": 1,
      "outputs": [
        {
          "output_type": "stream",
          "name": "stdout",
          "text": [
            "total 5379436\n",
            "drwxr-xr-x 1 root root       4096 Aug 24 11:16 .\n",
            "drwxr-xr-x 1 root root       4096 Aug 24 11:09 ..\n",
            "drwxr-xr-x 4 root root       4096 Aug 22 13:38 .config\n",
            "-rw-r--r-- 1 root root 5508521088 Jul 18 18:05 llama-2-13b-chat.ggmlv3.q2_K.bin\n",
            "drwxr-xr-x 1 root root       4096 Aug 22 13:39 sample_data\n",
            "/content\n"
          ]
        }
      ]
    },
    {
      "cell_type": "markdown",
      "source": [
        "# Model download : Do this only if model file is not visibile above!"
      ],
      "metadata": {
        "id": "337frCuWQC42"
      }
    },
    {
      "cell_type": "code",
      "source": [
        "! wget https://huggingface.co/TheBloke/Llama-2-13B-chat-GGML/resolve/main/llama-2-13b-chat.ggmlv3.q2_K.bin"
      ],
      "metadata": {
        "colab": {
          "base_uri": "https://localhost:8080/"
        },
        "id": "9NTifmRqP4Rr",
        "outputId": "d5e4d05a-929d-4600-e7e9-700744abae4d"
      },
      "execution_count": 2,
      "outputs": [
        {
          "output_type": "stream",
          "name": "stdout",
          "text": [
            "--2023-08-24 11:30:59--  https://huggingface.co/TheBloke/Llama-2-13B-chat-GGML/resolve/main/llama-2-13b-chat.ggmlv3.q2_K.bin\n",
            "Resolving huggingface.co (huggingface.co)... 13.35.166.114, 13.35.166.36, 13.35.166.69, ...\n",
            "Connecting to huggingface.co (huggingface.co)|13.35.166.114|:443... connected.\n",
            "HTTP request sent, awaiting response... 302 Found\n",
            "Location: https://cdn-lfs.huggingface.co/repos/cd/43/cd4356b11767f5136b31b27dbb8863d6dd69a4010e034ef75be9c2c12fcd10f7/de25498144f05fd3ee41cd2250c16f23a8415a4a4c9f4c1df1a3efd9b3c0991d?response-content-disposition=attachment%3B+filename*%3DUTF-8%27%27llama-2-13b-chat.ggmlv3.q2_K.bin%3B+filename%3D%22llama-2-13b-chat.ggmlv3.q2_K.bin%22%3B&response-content-type=application%2Foctet-stream&Expires=1693135860&Policy=eyJTdGF0ZW1lbnQiOlt7IkNvbmRpdGlvbiI6eyJEYXRlTGVzc1RoYW4iOnsiQVdTOkVwb2NoVGltZSI6MTY5MzEzNTg2MH19LCJSZXNvdXJjZSI6Imh0dHBzOi8vY2RuLWxmcy5odWdnaW5nZmFjZS5jby9yZXBvcy9jZC80My9jZDQzNTZiMTE3NjdmNTEzNmIzMWIyN2RiYjg4NjNkNmRkNjlhNDAxMGUwMzRlZjc1YmU5YzJjMTJmY2QxMGY3L2RlMjU0OTgxNDRmMDVmZDNlZTQxY2QyMjUwYzE2ZjIzYTg0MTVhNGE0YzlmNGMxZGYxYTNlZmQ5YjNjMDk5MWQ%7EcmVzcG9uc2UtY29udGVudC1kaXNwb3NpdGlvbj0qJnJlc3BvbnNlLWNvbnRlbnQtdHlwZT0qIn1dfQ__&Signature=FKTG2Vc7xPWmGF8HRuhX3pPunq%7Ea3gBLSKYq8bp9684cp1G4W%7Et7AsrZz83ai3VctD8H9Rr9NirAByaKNpoUvM4MW7zFVeLXWjAQNWFxvRC5xpWUdEpU0pbjvQKdBITdcbJF70YpkoBSSxcA4KJs-ENwQDslLNKQtV9QUJOuXaQXznnkK7hH9iRVxIyTufpoTgm4gvorng7EoK9FC68Z593OABiuT92Tptc6G81aVqMQipWWrVmyq1D2eLw1tYQ%7EpP-XbTbOwWJCryxH9CdidTGbd9brrrpGPuZ5uCYAUMduqLEDLNiPrfQxeu4xtFpN6QlkQ3Mzbax8G0cO0J9zVw__&Key-Pair-Id=KVTP0A1DKRTAX [following]\n",
            "--2023-08-24 11:31:00--  https://cdn-lfs.huggingface.co/repos/cd/43/cd4356b11767f5136b31b27dbb8863d6dd69a4010e034ef75be9c2c12fcd10f7/de25498144f05fd3ee41cd2250c16f23a8415a4a4c9f4c1df1a3efd9b3c0991d?response-content-disposition=attachment%3B+filename*%3DUTF-8%27%27llama-2-13b-chat.ggmlv3.q2_K.bin%3B+filename%3D%22llama-2-13b-chat.ggmlv3.q2_K.bin%22%3B&response-content-type=application%2Foctet-stream&Expires=1693135860&Policy=eyJTdGF0ZW1lbnQiOlt7IkNvbmRpdGlvbiI6eyJEYXRlTGVzc1RoYW4iOnsiQVdTOkVwb2NoVGltZSI6MTY5MzEzNTg2MH19LCJSZXNvdXJjZSI6Imh0dHBzOi8vY2RuLWxmcy5odWdnaW5nZmFjZS5jby9yZXBvcy9jZC80My9jZDQzNTZiMTE3NjdmNTEzNmIzMWIyN2RiYjg4NjNkNmRkNjlhNDAxMGUwMzRlZjc1YmU5YzJjMTJmY2QxMGY3L2RlMjU0OTgxNDRmMDVmZDNlZTQxY2QyMjUwYzE2ZjIzYTg0MTVhNGE0YzlmNGMxZGYxYTNlZmQ5YjNjMDk5MWQ%7EcmVzcG9uc2UtY29udGVudC1kaXNwb3NpdGlvbj0qJnJlc3BvbnNlLWNvbnRlbnQtdHlwZT0qIn1dfQ__&Signature=FKTG2Vc7xPWmGF8HRuhX3pPunq%7Ea3gBLSKYq8bp9684cp1G4W%7Et7AsrZz83ai3VctD8H9Rr9NirAByaKNpoUvM4MW7zFVeLXWjAQNWFxvRC5xpWUdEpU0pbjvQKdBITdcbJF70YpkoBSSxcA4KJs-ENwQDslLNKQtV9QUJOuXaQXznnkK7hH9iRVxIyTufpoTgm4gvorng7EoK9FC68Z593OABiuT92Tptc6G81aVqMQipWWrVmyq1D2eLw1tYQ%7EpP-XbTbOwWJCryxH9CdidTGbd9brrrpGPuZ5uCYAUMduqLEDLNiPrfQxeu4xtFpN6QlkQ3Mzbax8G0cO0J9zVw__&Key-Pair-Id=KVTP0A1DKRTAX\n",
            "Resolving cdn-lfs.huggingface.co (cdn-lfs.huggingface.co)... 13.35.7.113, 13.35.7.93, 13.35.7.99, ...\n",
            "Connecting to cdn-lfs.huggingface.co (cdn-lfs.huggingface.co)|13.35.7.113|:443... connected.\n",
            "HTTP request sent, awaiting response... 200 OK\n",
            "Length: 5508521088 (5.1G) [application/octet-stream]\n",
            "Saving to: ‘llama-2-13b-chat.ggmlv3.q2_K.bin.1’\n",
            "\n",
            "llama-2-13b-chat.gg 100%[===================>]   5.13G  86.6MB/s    in 64s     \n",
            "\n",
            "2023-08-24 11:32:03 (82.6 MB/s) - ‘llama-2-13b-chat.ggmlv3.q2_K.bin.1’ saved [5508521088/5508521088]\n",
            "\n"
          ]
        }
      ]
    },
    {
      "cell_type": "markdown",
      "source": [
        "# Install deps\n"
      ],
      "metadata": {
        "id": "b0jitre4aW-T"
      }
    },
    {
      "cell_type": "code",
      "execution_count": 3,
      "metadata": {
        "id": "ofOv548DZ32W"
      },
      "outputs": [],
      "source": [
        "!pip -q install langchain llama-cpp-python"
      ]
    },
    {
      "cell_type": "markdown",
      "source": [
        "# LLMChain = Model + PromptTemplate"
      ],
      "metadata": {
        "id": "CXmg9qIQblfJ"
      }
    },
    {
      "cell_type": "code",
      "source": [
        "from langchain import PromptTemplate, LLMChain, LlamaCpp\n",
        "\n",
        "# Load model\n",
        "model_name = \"llama-2-13b-chat.ggmlv3.q2_K.bin\"\n",
        "llm = LlamaCpp(\n",
        "\tmodel_path=model_name #, model_kwargs={\"temperature\":0.1, \"max_length\":128}\n",
        ")\n",
        "\n",
        "# Template and Prompt\n",
        "template = \"\"\"Question: {question}\n",
        "Answer: Let's think step by step. \"\"\"\n",
        "\n",
        "prompt = PromptTemplate(\n",
        "  template=template,\n",
        "  input_variables=['question']\n",
        ")\n",
        "\n",
        "# LLMChain\n",
        "llm_chain = LLMChain(prompt=prompt, llm=llm)"
      ],
      "metadata": {
        "id": "lqaddfrYcAyU",
        "colab": {
          "base_uri": "https://localhost:8080/"
        },
        "outputId": "1e450703-5fab-4096-81cf-45a36bd4f00f"
      },
      "execution_count": 4,
      "outputs": [
        {
          "output_type": "stream",
          "name": "stderr",
          "text": [
            "AVX = 1 | AVX2 = 1 | AVX512 = 0 | AVX512_VBMI = 0 | AVX512_VNNI = 0 | FMA = 1 | NEON = 0 | ARM_FMA = 0 | F16C = 1 | FP16_VA = 0 | WASM_SIMD = 0 | BLAS = 0 | SSE3 = 1 | VSX = 0 | \n"
          ]
        }
      ]
    },
    {
      "cell_type": "markdown",
      "source": [
        "# LangChain LLMChain question and run"
      ],
      "metadata": {
        "id": "ZfaHJCQYifoV"
      }
    },
    {
      "cell_type": "code",
      "source": [
        "\n",
        "\n",
        "\n",
        "question = \"What is the number of the days of the week squared?\"  # correct first try from llama-2-13b-chat.ggmlv3.q2_K.bin\n",
        "\n",
        "#question = \"How many fingers are there on six hands?\" # correct first try from llama-2-13b-chat.ggmlv3.q2_K.bin\n",
        "\n",
        "#question = \"\"\"Andy has four apples. Bill has seven oranges. Claire has three apples.\n",
        "#Daniel has two oranges. Sort the people by the number of their fruits after Andy gives Claire two and Bill gives Daniel four.\"\"\"\n",
        "# wrong first try from llama-2-13b-chat.ggmlv3.q2_K.bin\n",
        "# A=4 B=7 C=3 D=2 ; A-2 C+2 B-4 D+4 ; A=2 B=3 C=5 D=6 ; ABCD or DCBA is correct\n",
        "\n",
        "result = llm_chain(question)\n",
        "\n",
        "print(result['text'])\n",
        "print(result)"
      ],
      "metadata": {
        "colab": {
          "base_uri": "https://localhost:8080/"
        },
        "id": "akDv5vrpii4J",
        "outputId": "4f52e82e-736f-4d29-8965-c4137dfc8c48"
      },
      "execution_count": 8,
      "outputs": [
        {
          "output_type": "stream",
          "name": "stderr",
          "text": [
            "Llama.generate: prefix-match hit\n"
          ]
        },
        {
          "output_type": "stream",
          "name": "stdout",
          "text": [
            " If we have the number of days in a week, and we square it, what would be the result?\n",
            "\n",
            "Let's start with the assumption that there are 7 days in a week.\n",
            "\n",
            "If we take 7 and square it, we get:\n",
            "\n",
            "7^2 = 7 × 7 = 49\n",
            "\n",
            "So, the number of days in a week squared is 49.\n",
            "{'question': 'What is the number of the days of the week squared?', 'text': \" If we have the number of days in a week, and we square it, what would be the result?\\n\\nLet's start with the assumption that there are 7 days in a week.\\n\\nIf we take 7 and square it, we get:\\n\\n7^2 = 7 × 7 = 49\\n\\nSo, the number of days in a week squared is 49.\"}\n"
          ]
        }
      ]
    }
  ]
}