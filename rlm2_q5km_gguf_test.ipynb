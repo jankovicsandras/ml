{
  "nbformat": 4,
  "nbformat_minor": 0,
  "metadata": {
    "colab": {
      "provenance": [],
      "authorship_tag": "ABX9TyOUw6wNj1BTZ0E9CbTHE+0H",
      "include_colab_link": true
    },
    "kernelspec": {
      "name": "python3",
      "display_name": "Python 3"
    },
    "language_info": {
      "name": "python"
    }
  },
  "cells": [
    {
      "cell_type": "markdown",
      "metadata": {
        "id": "view-in-github",
        "colab_type": "text"
      },
      "source": [
        "<a href=\"https://colab.research.google.com/github/jankovicsandras/ml/blob/main/rlm2_q5km_gguf_test.ipynb\" target=\"_parent\"><img src=\"https://colab.research.google.com/assets/colab-badge.svg\" alt=\"Open In Colab\"/></a>"
      ]
    },
    {
      "cell_type": "markdown",
      "source": [
        "# Check if model file is downloaded"
      ],
      "metadata": {
        "id": "yIfIqQEDPnXG"
      }
    },
    {
      "cell_type": "code",
      "source": [
        "! ls -la\n",
        "! pwd"
      ],
      "metadata": {
        "colab": {
          "base_uri": "https://localhost:8080/"
        },
        "id": "uhTEY8T3PmFU",
        "outputId": "6241dce8-d08d-432b-ee05-70bf7c3e5281"
      },
      "execution_count": 1,
      "outputs": [
        {
          "output_type": "stream",
          "name": "stdout",
          "text": [
            "total 16\n",
            "drwxr-xr-x 1 root root 4096 Aug 24 21:25 .\n",
            "drwxr-xr-x 1 root root 4096 Aug 30 10:43 ..\n",
            "drwxr-xr-x 4 root root 4096 Aug 24 21:24 .config\n",
            "drwxr-xr-x 1 root root 4096 Aug 24 21:25 sample_data\n",
            "/content\n"
          ]
        }
      ]
    },
    {
      "cell_type": "markdown",
      "source": [
        "# Model download : Do this only if model file is not visibile above!"
      ],
      "metadata": {
        "id": "337frCuWQC42"
      }
    },
    {
      "cell_type": "code",
      "source": [
        "! wget https://huggingface.co/jankovicsandras/Llama-2-13b-chat-norwegian-Q5_K_M-GGUF/resolve/main/rlm2_q5km.gguf"
      ],
      "metadata": {
        "colab": {
          "base_uri": "https://localhost:8080/"
        },
        "id": "9NTifmRqP4Rr",
        "outputId": "fc94a8fc-13d7-48f8-8e83-eca35ac582b4"
      },
      "execution_count": 2,
      "outputs": [
        {
          "output_type": "stream",
          "name": "stdout",
          "text": [
            "--2023-08-30 10:45:19--  https://huggingface.co/jankovicsandras/Llama-2-13b-chat-norwegian-Q5_K_M-GGUF/resolve/main/rlm2_q5km.gguf\n",
            "Resolving huggingface.co (huggingface.co)... 13.35.166.36, 13.35.166.50, 13.35.166.114, ...\n",
            "Connecting to huggingface.co (huggingface.co)|13.35.166.36|:443... connected.\n",
            "HTTP request sent, awaiting response... 302 Found\n",
            "Location: https://cdn-lfs.huggingface.co/repos/b3/b4/b3b4473ed3fc1d2842e0a804bc1fb3e63938232aa5700a3452b4e9020eafd8b7/4bc3384d7b9dea5efada128c1c2c1e7c47de58e80108021050499cd543fd259c?response-content-disposition=attachment%3B+filename*%3DUTF-8%27%27rlm2_q5km.gguf%3B+filename%3D%22rlm2_q5km.gguf%22%3B&Expires=1693651519&Policy=eyJTdGF0ZW1lbnQiOlt7IkNvbmRpdGlvbiI6eyJEYXRlTGVzc1RoYW4iOnsiQVdTOkVwb2NoVGltZSI6MTY5MzY1MTUxOX19LCJSZXNvdXJjZSI6Imh0dHBzOi8vY2RuLWxmcy5odWdnaW5nZmFjZS5jby9yZXBvcy9iMy9iNC9iM2I0NDczZWQzZmMxZDI4NDJlMGE4MDRiYzFmYjNlNjM5MzgyMzJhYTU3MDBhMzQ1MmI0ZTkwMjBlYWZkOGI3LzRiYzMzODRkN2I5ZGVhNWVmYWRhMTI4YzFjMmMxZTdjNDdkZTU4ZTgwMTA4MDIxMDUwNDk5Y2Q1NDNmZDI1OWM%7EcmVzcG9uc2UtY29udGVudC1kaXNwb3NpdGlvbj0qIn1dfQ__&Signature=aA0VSLLc-RUSAYDL9Opo2JKy4UA408wE7raarFiDasYhbgy7sb8Zw2DOcgT4zaKmtRcehT640HPVR321lVjb0gPntb3X093roQz-Juk%7EDGLyyJL0reAsayhP9RQeiq-EkqPLz5hAFSwrU1oaUekhYfVt9ehnhACmcu9gHVa4AnK3XP5G1VyyRUIUYp6DxYBrEWpWFI2gk6MChdBinOT%7EA4xLN8LxHRK67dzhfMWleNgJvtzfM6CcBlvi4LaajpbyJTqZXSJ4goXddbRdloaBILzBkOhBYff2HbYgGg6hrVH1kK-4X8zpHju62egYkixu4R9FXp4eCpGW8v-UEnUpfQ__&Key-Pair-Id=KVTP0A1DKRTAX [following]\n",
            "--2023-08-30 10:45:19--  https://cdn-lfs.huggingface.co/repos/b3/b4/b3b4473ed3fc1d2842e0a804bc1fb3e63938232aa5700a3452b4e9020eafd8b7/4bc3384d7b9dea5efada128c1c2c1e7c47de58e80108021050499cd543fd259c?response-content-disposition=attachment%3B+filename*%3DUTF-8%27%27rlm2_q5km.gguf%3B+filename%3D%22rlm2_q5km.gguf%22%3B&Expires=1693651519&Policy=eyJTdGF0ZW1lbnQiOlt7IkNvbmRpdGlvbiI6eyJEYXRlTGVzc1RoYW4iOnsiQVdTOkVwb2NoVGltZSI6MTY5MzY1MTUxOX19LCJSZXNvdXJjZSI6Imh0dHBzOi8vY2RuLWxmcy5odWdnaW5nZmFjZS5jby9yZXBvcy9iMy9iNC9iM2I0NDczZWQzZmMxZDI4NDJlMGE4MDRiYzFmYjNlNjM5MzgyMzJhYTU3MDBhMzQ1MmI0ZTkwMjBlYWZkOGI3LzRiYzMzODRkN2I5ZGVhNWVmYWRhMTI4YzFjMmMxZTdjNDdkZTU4ZTgwMTA4MDIxMDUwNDk5Y2Q1NDNmZDI1OWM%7EcmVzcG9uc2UtY29udGVudC1kaXNwb3NpdGlvbj0qIn1dfQ__&Signature=aA0VSLLc-RUSAYDL9Opo2JKy4UA408wE7raarFiDasYhbgy7sb8Zw2DOcgT4zaKmtRcehT640HPVR321lVjb0gPntb3X093roQz-Juk%7EDGLyyJL0reAsayhP9RQeiq-EkqPLz5hAFSwrU1oaUekhYfVt9ehnhACmcu9gHVa4AnK3XP5G1VyyRUIUYp6DxYBrEWpWFI2gk6MChdBinOT%7EA4xLN8LxHRK67dzhfMWleNgJvtzfM6CcBlvi4LaajpbyJTqZXSJ4goXddbRdloaBILzBkOhBYff2HbYgGg6hrVH1kK-4X8zpHju62egYkixu4R9FXp4eCpGW8v-UEnUpfQ__&Key-Pair-Id=KVTP0A1DKRTAX\n",
            "Resolving cdn-lfs.huggingface.co (cdn-lfs.huggingface.co)... 13.35.7.14, 13.35.7.99, 13.35.7.113, ...\n",
            "Connecting to cdn-lfs.huggingface.co (cdn-lfs.huggingface.co)|13.35.7.14|:443... connected.\n",
            "HTTP request sent, awaiting response... 200 OK\n",
            "Length: 9229924096 (8.6G) [binary/octet-stream]\n",
            "Saving to: ‘rlm2_q5km.gguf’\n",
            "\n",
            "rlm2_q5km.gguf      100%[===================>]   8.60G  19.6MB/s    in 7m 36s  \n",
            "\n",
            "2023-08-30 10:52:56 (19.3 MB/s) - ‘rlm2_q5km.gguf’ saved [9229924096/9229924096]\n",
            "\n"
          ]
        }
      ]
    },
    {
      "cell_type": "markdown",
      "source": [
        "# Install deps\n"
      ],
      "metadata": {
        "id": "b0jitre4aW-T"
      }
    },
    {
      "cell_type": "code",
      "execution_count": 3,
      "metadata": {
        "id": "ofOv548DZ32W",
        "colab": {
          "base_uri": "https://localhost:8080/"
        },
        "outputId": "990ef278-4bbc-421a-f2de-28e0045632a9"
      },
      "outputs": [
        {
          "output_type": "stream",
          "name": "stdout",
          "text": [
            "\u001b[2K     \u001b[90m━━━━━━━━━━━━━━━━━━━━━━━━━━━━━━━━━━━━━━━━\u001b[0m \u001b[32m1.6/1.6 MB\u001b[0m \u001b[31m7.4 MB/s\u001b[0m eta \u001b[36m0:00:00\u001b[0m\n",
            "\u001b[2K     \u001b[90m━━━━━━━━━━━━━━━━━━━━━━━━━━━━━━━━━━━━━━━━\u001b[0m \u001b[32m1.8/1.8 MB\u001b[0m \u001b[31m12.3 MB/s\u001b[0m eta \u001b[36m0:00:00\u001b[0m\n",
            "\u001b[?25h  Installing build dependencies ... \u001b[?25l\u001b[?25hdone\n",
            "  Getting requirements to build wheel ... \u001b[?25l\u001b[?25hdone\n",
            "  Preparing metadata (pyproject.toml) ... \u001b[?25l\u001b[?25hdone\n",
            "\u001b[2K     \u001b[90m━━━━━━━━━━━━━━━━━━━━━━━━━━━━━━━━━━━━━━━━\u001b[0m \u001b[32m45.6/45.6 kB\u001b[0m \u001b[31m5.0 MB/s\u001b[0m eta \u001b[36m0:00:00\u001b[0m\n",
            "\u001b[2K     \u001b[90m━━━━━━━━━━━━━━━━━━━━━━━━━━━━━━━━━━━━━━━━\u001b[0m \u001b[32m49.4/49.4 kB\u001b[0m \u001b[31m4.9 MB/s\u001b[0m eta \u001b[36m0:00:00\u001b[0m\n",
            "\u001b[?25h  Building wheel for llama-cpp-python (pyproject.toml) ... \u001b[?25l\u001b[?25hdone\n"
          ]
        }
      ],
      "source": [
        "!pip -q install langchain llama-cpp-python gguf"
      ]
    },
    {
      "cell_type": "markdown",
      "source": [
        "# LLMChain = Model + PromptTemplate"
      ],
      "metadata": {
        "id": "CXmg9qIQblfJ"
      }
    },
    {
      "cell_type": "code",
      "source": [
        "from langchain import PromptTemplate, LLMChain, LlamaCpp\n",
        "\n",
        "# Load model\n",
        "model_name = \"rlm2_q5km.gguf\"\n",
        "llm = LlamaCpp(\n",
        "\tmodel_path=model_name,\n",
        "  verbose=True,\n",
        "  #last_n_tokens_size=32,\n",
        "  #max_tokens=128,\n",
        "  #n_ctx=256,\n",
        "  temperature=0.3\n",
        ")\n",
        "\n",
        "# Template and Prompt\n",
        "template = \"\"\"Spørsmål: {question}\n",
        "Svar: \"\"\"\n",
        "\n",
        "prompt = PromptTemplate( template=template, input_variables=['question'] )\n",
        "\n",
        "# LLMChain\n",
        "llm_chain = LLMChain(prompt=prompt, llm=llm)"
      ],
      "metadata": {
        "id": "lqaddfrYcAyU",
        "colab": {
          "base_uri": "https://localhost:8080/"
        },
        "outputId": "43107f57-727a-41b8-e108-66c0535514f5"
      },
      "execution_count": 5,
      "outputs": [
        {
          "output_type": "stream",
          "name": "stderr",
          "text": [
            "AVX = 1 | AVX2 = 1 | AVX512 = 0 | AVX512_VBMI = 0 | AVX512_VNNI = 0 | FMA = 1 | NEON = 0 | ARM_FMA = 0 | F16C = 1 | FP16_VA = 0 | WASM_SIMD = 0 | BLAS = 0 | SSE3 = 1 | SSSE3 = 1 | VSX = 0 | \n"
          ]
        }
      ]
    },
    {
      "cell_type": "markdown",
      "source": [
        "# LangChain LLMChain question and run"
      ],
      "metadata": {
        "id": "ZfaHJCQYifoV"
      }
    },
    {
      "cell_type": "code",
      "source": [
        "\n",
        "question = \"Kva er dei 5 farlegaste dyra i Afrika?\"\n",
        "\n",
        "result = llm_chain(question)\n",
        "\n",
        "print(result['text'])\n",
        "print(result)"
      ],
      "metadata": {
        "id": "akDv5vrpii4J",
        "colab": {
          "base_uri": "https://localhost:8080/"
        },
        "outputId": "ddc7f466-0c77-48e4-cc3f-f21fb39f46ad"
      },
      "execution_count": 6,
      "outputs": [
        {
          "output_type": "stream",
          "name": "stdout",
          "text": [
            "\n",
            "De fem farligste dyrene i Afrika er løver, leoparder, elefanter, hyener og krokodiller.\n",
            "{'question': 'Kva er dei 5 farlegaste dyra i Afrika?', 'text': '\\nDe fem farligste dyrene i Afrika er løver, leoparder, elefanter, hyener og krokodiller.'}\n"
          ]
        }
      ]
    },
    {
      "cell_type": "markdown",
      "source": [
        "## Example question and result\n",
        "```python\n",
        "question = \"Kva er dei 5 farlegaste dyra i Afrika?\"\n",
        "```\n",
        "output:\n",
        "```\n",
        "De fem farligste dyrene i Afrika er løver, leoparder, elefanter, hyener og krokodiller.\n",
        "{'question': 'Kva er dei 5 farlegaste dyra i Afrika?', 'text': '\\nDe fem farligste dyrene i Afrika er løver, leoparder, elefanter, hyener og krokodiller.'}\n",
        "```\n"
      ],
      "metadata": {
        "id": "IuygOj3NLZOF"
      }
    }
  ]
}